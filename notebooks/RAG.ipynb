{
 "cells": [
  {
   "cell_type": "code",
   "execution_count": 1,
   "metadata": {},
   "outputs": [
    {
     "name": "stderr",
     "output_type": "stream",
     "text": [
      "/home/mahbubah/Desktop/week-11/.venv/lib/python3.12/site-packages/sentence_transformers/cross_encoder/CrossEncoder.py:11: TqdmWarning: IProgress not found. Please update jupyter and ipywidgets. See https://ipywidgets.readthedocs.io/en/stable/user_install.html\n",
      "  from tqdm.autonotebook import tqdm, trange\n"
     ]
    }
   ],
   "source": [
    "import os\n",
    "from docx import Document\n",
    "from langchain.text_splitter import RecursiveCharacterTextSplitter, SentenceTransformersTokenTextSplitter\n",
    "from chromadb import Client\n",
    "from chromadb.utils.embedding_functions import SentenceTransformerEmbeddingFunction\n",
    "from dotenv import load_dotenv, find_dotenv\n",
    "import openai\n",
    "from sentence_transformers import CrossEncoder\n",
    "import numpy as np\n",
    "from openai import OpenAI\n",
    "\n",
    "# Load environment variables\n",
    "_ = load_dotenv(find_dotenv())\n",
    "\n",
    "client = OpenAI(api_key = os.getenv('OPENAI_API_KEY'))\n",
    "\n",
    "# Initialize ChromaDB client\n",
    "chroma_client = Client()\n"
   ]
  },
  {
   "cell_type": "code",
   "execution_count": 2,
   "metadata": {},
   "outputs": [],
   "source": [
    "def preprocess_document(docx_path):\n",
    "    doc = Document(docx_path)\n",
    "    docx_texts = [paragraph.text.strip() for paragraph in doc.paragraphs if paragraph.text.strip()]\n",
    "\n",
    "    character_splitter = RecursiveCharacterTextSplitter(separators=[\"\\n\\n\", \"\\n\", \". \", \" \", \"\"], chunk_size=1000, chunk_overlap=0)\n",
    "    character_split_texts = character_splitter.split_text('\\n\\n'.join(docx_texts))\n",
    "\n",
    "    token_splitter = SentenceTransformersTokenTextSplitter(chunk_overlap=0, tokens_per_chunk=256)\n",
    "    token_split_texts = []\n",
    "    for text in character_split_texts:\n",
    "        token_split_texts += token_splitter.split_text(text)\n",
    "\n",
    "    return token_split_texts\n",
    "\n",
    "# Example document path\n",
    "docx_path = \"../Evaluation Sets/Robinson Advisory.docx\"\n",
    "documents = preprocess_document(docx_path)\n",
    "\n",
    "# Embedding function\n",
    "embedding_function = SentenceTransformerEmbeddingFunction()\n",
    "\n",
    "# Create ChromaDB collection and add documents\n",
    "chroma_collection = chroma_client.create_collection(\"Contract\", embedding_function=embedding_function)\n",
    "ids = [str(i) for i in range(len(documents))]\n",
    "chroma_collection.add(ids=ids, documents=documents)\n"
   ]
  },
  {
   "cell_type": "code",
   "execution_count": 3,
   "metadata": {},
   "outputs": [],
   "source": [
    "def query_documents(query, collection):\n",
    "    results = collection.query(query_texts=[query], n_results=5)\n",
    "    retrieved_documents = results['documents'][0]\n",
    "    return retrieved_documents"
   ]
  },
  {
   "cell_type": "code",
   "execution_count": 4,
   "metadata": {},
   "outputs": [],
   "source": [
    "\n",
    "def augment_multiple_query(query, model=\"gpt-3.5-turbo\"):\n",
    "    messages = [\n",
    "        {\n",
    "            \"role\": \"system\",\n",
    "            \"content\": \"You are a helpful expert contract advisor assistant. Your users are asking questions about information contained in the contract.\"\n",
    "                       \"Suggest up to five additional related questions to help them find the information they need, for the provided question. \"\n",
    "                       \"Suggest only short questions without compound sentences. Suggest a variety of questions that cover different aspects of the topic.\"\n",
    "                       \"Make sure they are complete questions, and that they are related to the original question.\"\n",
    "                       \"Output one question per line. Do not number the questions.\"\n",
    "        },\n",
    "        {\"role\": \"user\", \"content\": query}\n",
    "    ]\n",
    "\n",
    "    response = client.chat.completions.create(\n",
    "        model=model,\n",
    "        messages=messages,\n",
    "    )\n",
    "    content = response.choices[0].message.content\n",
    "    content = content.split(\"\\n\")\n",
    "    return content\n"
   ]
  },
  {
   "cell_type": "code",
   "execution_count": 5,
   "metadata": {},
   "outputs": [],
   "source": [
    "def rag_with_query_expansion(original_query, model=\"gpt-3.5-turbo\"):\n",
    "    # Expand the original query\n",
    "    expanded_queries = augment_multiple_query(original_query, model=model)[:5]  # Limit to top 5 expanded queries\n",
    "\n",
    "    # Include the original query in the list of queries\n",
    "    queries = [original_query] + expanded_queries\n",
    "\n",
    "    # Query ChromaDB for relevant documents\n",
    "    results = chroma_collection.query(query_texts=queries, n_results=5, include=['documents'])\n",
    "    retrieved_documents = results['documents']\n",
    "\n",
    "    # Deduplicate the retrieved documents\n",
    "    unique_documents = set()\n",
    "    for documents in retrieved_documents:\n",
    "        for document in documents:\n",
    "            unique_documents.add(document)\n",
    "\n",
    "    # Convert back to list for indexing\n",
    "    unique_documents = list(unique_documents)\n",
    "\n",
    "    # Rank documents based on relevance to each query\n",
    "    cross_encoder = CrossEncoder('cross-encoder/ms-marco-MiniLM-L-6-v2')\n",
    "    pairs = [[query, doc] for doc in unique_documents for query in queries]\n",
    "    scores = cross_encoder.predict(pairs)\n",
    "\n",
    "    # Sort documents based on average score across all queries\n",
    "    avg_scores = np.mean(np.array(scores).reshape(len(queries), -1), axis=0)\n",
    "    ranked_indices = np.argsort(avg_scores)[::-1]\n",
    "    ranked_documents = [unique_documents[i] for i in ranked_indices]\n",
    "\n",
    "    # Generate answer using RAG with ranked documents\n",
    "    information = \"\\n\\n\".join(ranked_documents[:5])  # Use top 5 ranked documents\n",
    "    print(information)\n",
    "    \n",
    "    messages = [\n",
    "        {\n",
    "            \"role\": \"system\",\n",
    "            \"content\": \"You are a helpful expert legal contract advisor assistant. Your users are asking questions about information contained in the contract.\"\n",
    "                       \"You will be shown the user's question, and the relevant information from the contract. Answer the user's question using only this information.\"\n",
    "        },\n",
    "        {\"role\": \"user\", \"content\": f\"Question: {original_query}. \\n Information: {information}\"},\n",
    "        \n",
    "    ]\n",
    "    \n",
    "    response = client.chat.completions.create(\n",
    "        model=model,\n",
    "        messages=messages,\n",
    "    )\n",
    "    content = response.choices[0].message.content\n",
    "    return content\n"
   ]
  },
  {
   "cell_type": "code",
   "execution_count": 6,
   "metadata": {},
   "outputs": [
    {
     "name": "stdout",
     "output_type": "stream",
     "text": [
      "ip : any work product, upon creation, shall be fully and exclusively owned by the company. the advisor, immediately upon company ’ s request, shall sign any document and / or perform any action needed to formalize such ownership. the advisor shall not obtain any rights in the work product, including moral rights and / or rights for royalties or other consideration under any applicable law ( including section 134 of the israeli patent law – 1967 if applicable ), and shall not be entitled to any compensation with respect to the services, which was not specifically agreed, in writing, between the advisor and the company. non - compete : during the term of engagement with the company and for a period of 12 months thereafter, advisor shall not be involved, as an employee, owner, contractor or otherwise, in any business, which competes with the company ’ s business, and shall not solicit and / or hire any employee and / or service provider of the company, without the prior written consent of the company.\n",
      "\n",
      "in performing the services, advisor shall devote his time, know - how, expertise, talent, experience and best efforts and attention to the provision of the services, as shall be reasonably required by the company. advisor shall render the services in a diligent manner and at a high professional standard for the benefit of the company and shall perform and discharge well and faithfully, with devotion, honesty and fidelity, his obligations hereunder. advisor further agrees and undertakes to ( i ) comply with all the company's policies, procedures and objectives, as in effect from time to time ; ( ii ) adhere to any applicable law or provision, pertaining to his services ; ( iii ) not take any action with the intention that the same will cause material damage to the good name of the company ; ( iv ) keep the contents of this agreement confidential and not to disclose the existence or contents of this agreement to any third party without the prior written consent of the company.\n",
      "\n",
      "advisor shall be solely responsible for any income taxes or other assessments made or imposed by any governmental authority on advisor with respect to the services rendered and the compensation received hereunder, and any and all expenses and costs of himself, employees, agents and representatives, including, without limitation, any salary, overtime, severance or social benefits payable thereto, and marketing costs incurred in connection with the performance of obligations hereunder. confidentiality, non - competition and ip ownership undertaking : in connection with the performance of advisor ’ s obligations under this agreement, the advisor shall execute a confidentiality, non - competition and ip ownership undertaking in the form attached hereto as exhibit a.\n",
      "\n",
      "personnel : the advisor may provide the services only directly or through employees, contractors or agents ( “ personnel ” ), which were specifically approved by the company, and have committed in writing to confidentiality and ownership rights towards the advisor and / or the company, in a form restrictive enough to allow advisor to comply and enforce the commitments under this undertaking ( “ authorized personnel ” ). without limiting the foregoing, the advisor is liable hereunder for any breach of this undertaking by any advisor personnel.\n",
      "\n",
      "relationship of the parties ; indemnification : the sole relationship between the company and the advisor shall be that of independent contractors. advisor shall not be deemed to be, nor treated by the company as, an employee of the company. advisor shall not receive nor be entitled to overtime pay, insurance, paid vacation, severance payments or similar fringe or employment benefits from the company. without derogating from the above, if it is adjudicated or otherwise determined by any governmental authority that the advisor and / or anyone on advisor's behalf, is, regardless of the terms of this agreement, an employee of the company, then payments to advisor hereunder shall be reduced effective retroactively as of the beginning of the term so that 60 % of such payments shall constitute salary payments, and 40 % of such payments shall constitute payment by the company for all other advisor statutory rights and benefits as employee of the company throughout the term\n",
      "Generated Answer:\n",
      "The contract does not specify the street on which the Advisor lives.\n"
     ]
    }
   ],
   "source": [
    "# Main script\n",
    "if __name__ == \"__main__\":\n",
    "    #query = \"What is the purpose of the escrow? \"\n",
    "    \n",
    "    original_query = \"In which street does the Advisor live?\"\n",
    "    \n",
    "    # Generate answer with query expansion and RAG\n",
    "    output = rag_with_query_expansion(original_query)\n",
    "   \n",
    "    \n",
    "    # Print or use the answer as needed\n",
    "    print(\"Generated Answer:\")\n",
    "    print(output)\n"
   ]
  },
  {
   "cell_type": "code",
   "execution_count": 7,
   "metadata": {},
   "outputs": [],
   "source": [
    "def retrieve_documents(query):\n",
    "    # Perform your retrieval logic here\n",
    "    results = chroma_collection.query(query_texts=[query], n_results=5)\n",
    "    retrieved_documents = results['documents'][0]  # Assuming the structure of returned documents\n",
    "    return retrieved_documents"
   ]
  },
  {
   "cell_type": "code",
   "execution_count": 8,
   "metadata": {},
   "outputs": [
    {
     "name": "stdout",
     "output_type": "stream",
     "text": [
      "personnel : the advisor may provide the services only directly or through employees, contractors or agents ( “ personnel ” ), which were specifically approved by the company, and have committed in writing to confidentiality and ownership rights towards the advisor and / or the company, in a form restrictive enough to allow advisor to comply and enforce the commitments under this undertaking ( “ authorized personnel ” ). without limiting the foregoing, the advisor is liable hereunder for any breach of this undertaking by any advisor personnel.\n",
      "\n",
      ". advisor further consents that the company may offset any amounts due to him under this section from any amounts payable to advisor under this agreement. advisor shall indemnify the company for any loss or expenses incurred by the company if it were determined that an alleged employer / employee relationship existed between the advisor and the company.\n",
      "\n",
      "advisor shall provide to the company, as an independent contractor, software development services, and / or any other services as agreed by the parties from time to time ( the “ services ” ). advisor shall not appoint any sub - agents or delegates in connection with performance of the services, nor assign any of his obligations or rights hereunder without obtaining the prior written consent of the company. without derogating from the foregoing, the advisor shall not be required to provide the services for a period of eighteen ( 18 ) days in each 12 - month period.\n",
      "\n",
      "ip : any work product, upon creation, shall be fully and exclusively owned by the company. the advisor, immediately upon company ’ s request, shall sign any document and / or perform any action needed to formalize such ownership. the advisor shall not obtain any rights in the work product, including moral rights and / or rights for royalties or other consideration under any applicable law ( including section 134 of the israeli patent law – 1967 if applicable ), and shall not be entitled to any compensation with respect to the services, which was not specifically agreed, in writing, between the advisor and the company. non - compete : during the term of engagement with the company and for a period of 12 months thereafter, advisor shall not be involved, as an employee, owner, contractor or otherwise, in any business, which competes with the company ’ s business, and shall not solicit and / or hire any employee and / or service provider of the company, without the prior written consent of the company.\n",
      "\n",
      "third parties : the advisor represents that the performance of the services and the terms of this undertaking, do not and will not breach any right, contractual or other, of any employer, customer or other third party. advisor acknowledges that the company is relying upon the truthfulness and accuracy of such representations in engaging with the advisor. advisor specifically undertakes not to use any proprietary and / or confidential information belonging to the advisor and / or any third party while performing the services and in case any advisor proprietary or confidential information is used, such information will be automatically assigned to the company and become its full and exclusive property.\n",
      "relationship of the parties ; indemnification : the sole relationship between the company and the advisor shall be that of independent contractors. advisor shall not be deemed to be, nor treated by the company as, an employee of the company. advisor shall not receive nor be entitled to overtime pay, insurance, paid vacation, severance payments or similar fringe or employment benefits from the company. without derogating from the above, if it is adjudicated or otherwise determined by any governmental authority that the advisor and / or anyone on advisor's behalf, is, regardless of the terms of this agreement, an employee of the company, then payments to advisor hereunder shall be reduced effective retroactively as of the beginning of the term so that 60 % of such payments shall constitute salary payments, and 40 % of such payments shall constitute payment by the company for all other advisor statutory rights and benefits as employee of the company throughout the term\n",
      "\n",
      "as full and sole consideration for the services, and subject to the performance of the services, the company shall pay the advisor, against an invoice provided to the company by advisor, hourly fees at a rate of usd 9 ( nine ) per billable hour as defined below, limited to a maximum of usd 1, 500 per month ( the \" fees \" ). in addition, the company shall pay the advisor usd 100 per month to finance a workspace for the advisor, as long as the advisor actually hires a professional workspace ( the “ workspace expense ” ). advisor will not be entitled to any additional fees or expense reimbursement whatsoever, except as expressly provided for in this agreement. billable hour : net time devoted to the provisioning of the services, without calculating meals, travels or any other overhead time borne by the advisor.\n",
      "\n",
      "termination : either party, at any given time, may terminate this agreement, for any reason whatsoever, with or without cause, upon fourteen ( 14 ) days ’ prior written notice. notwithstanding the above, the company may terminate this agreement immediately and without prior notice if advisor refuses or is unable to perform the services, or is in breach of any provision of this agreement. compensation :\n",
      "\n",
      ". advisor further consents that the company may offset any amounts due to him under this section from any amounts payable to advisor under this agreement. advisor shall indemnify the company for any loss or expenses incurred by the company if it were determined that an alleged employer / employee relationship existed between the advisor and the company.\n",
      "\n",
      "advisor shall provide to the company, as an independent contractor, software development services, and / or any other services as agreed by the parties from time to time ( the “ services ” ). advisor shall not appoint any sub - agents or delegates in connection with performance of the services, nor assign any of his obligations or rights hereunder without obtaining the prior written consent of the company. without derogating from the foregoing, the advisor shall not be required to provide the services for a period of eighteen ( 18 ) days in each 12 - month period.\n",
      ". advisor further consents that the company may offset any amounts due to him under this section from any amounts payable to advisor under this agreement. advisor shall indemnify the company for any loss or expenses incurred by the company if it were determined that an alleged employer / employee relationship existed between the advisor and the company.\n",
      "\n",
      "advisory services agreement this advisory services agreement is entered into as of june 15th, 2023 ( the “ effective date ” ), by and between cloud investments ltd., id 51 - 426526 - 3, an israeli company ( the \" company \" ), and mr. jack robinson, passport number 780055578, residing at 1 rabin st, tel aviv, israel, email : jackrobinson @ gmail. com ( \" advisor \" ). whereas, advisor has expertise and / or knowledge and / or relationships, which are relevant to the company ’ s business and the company has asked advisor to provide it with certain advisory services, as described in this agreement ; and whereas, advisor has agreed to provide the company with such services, subject to the terms set forth in this agreement. now therefore the parties agree as follows : services :\n",
      "\n",
      "third parties : the advisor represents that the performance of the services and the terms of this undertaking, do not and will not breach any right, contractual or other, of any employer, customer or other third party. advisor acknowledges that the company is relying upon the truthfulness and accuracy of such representations in engaging with the advisor. advisor specifically undertakes not to use any proprietary and / or confidential information belonging to the advisor and / or any third party while performing the services and in case any advisor proprietary or confidential information is used, such information will be automatically assigned to the company and become its full and exclusive property.\n",
      "\n",
      "relationship of the parties ; indemnification : the sole relationship between the company and the advisor shall be that of independent contractors. advisor shall not be deemed to be, nor treated by the company as, an employee of the company. advisor shall not receive nor be entitled to overtime pay, insurance, paid vacation, severance payments or similar fringe or employment benefits from the company. without derogating from the above, if it is adjudicated or otherwise determined by any governmental authority that the advisor and / or anyone on advisor's behalf, is, regardless of the terms of this agreement, an employee of the company, then payments to advisor hereunder shall be reduced effective retroactively as of the beginning of the term so that 60 % of such payments shall constitute salary payments, and 40 % of such payments shall constitute payment by the company for all other advisor statutory rights and benefits as employee of the company throughout the term\n",
      "\n",
      "advisor shall be solely responsible for any income taxes or other assessments made or imposed by any governmental authority on advisor with respect to the services rendered and the compensation received hereunder, and any and all expenses and costs of himself, employees, agents and representatives, including, without limitation, any salary, overtime, severance or social benefits payable thereto, and marketing costs incurred in connection with the performance of obligations hereunder. confidentiality, non - competition and ip ownership undertaking : in connection with the performance of advisor ’ s obligations under this agreement, the advisor shall execute a confidentiality, non - competition and ip ownership undertaking in the form attached hereto as exhibit a.\n",
      "in performing the services, advisor shall devote his time, know - how, expertise, talent, experience and best efforts and attention to the provision of the services, as shall be reasonably required by the company. advisor shall render the services in a diligent manner and at a high professional standard for the benefit of the company and shall perform and discharge well and faithfully, with devotion, honesty and fidelity, his obligations hereunder. advisor further agrees and undertakes to ( i ) comply with all the company's policies, procedures and objectives, as in effect from time to time ; ( ii ) adhere to any applicable law or provision, pertaining to his services ; ( iii ) not take any action with the intention that the same will cause material damage to the good name of the company ; ( iv ) keep the contents of this agreement confidential and not to disclose the existence or contents of this agreement to any third party without the prior written consent of the company.\n",
      "\n",
      "termination : either party, at any given time, may terminate this agreement, for any reason whatsoever, with or without cause, upon fourteen ( 14 ) days ’ prior written notice. notwithstanding the above, the company may terminate this agreement immediately and without prior notice if advisor refuses or is unable to perform the services, or is in breach of any provision of this agreement. compensation :\n",
      "\n",
      "personnel : the advisor may provide the services only directly or through employees, contractors or agents ( “ personnel ” ), which were specifically approved by the company, and have committed in writing to confidentiality and ownership rights towards the advisor and / or the company, in a form restrictive enough to allow advisor to comply and enforce the commitments under this undertaking ( “ authorized personnel ” ). without limiting the foregoing, the advisor is liable hereunder for any breach of this undertaking by any advisor personnel.\n",
      "\n",
      "advisor shall provide to the company, as an independent contractor, software development services, and / or any other services as agreed by the parties from time to time ( the “ services ” ). advisor shall not appoint any sub - agents or delegates in connection with performance of the services, nor assign any of his obligations or rights hereunder without obtaining the prior written consent of the company. without derogating from the foregoing, the advisor shall not be required to provide the services for a period of eighteen ( 18 ) days in each 12 - month period.\n",
      "\n",
      "relationship of the parties ; indemnification : the sole relationship between the company and the advisor shall be that of independent contractors. advisor shall not be deemed to be, nor treated by the company as, an employee of the company. advisor shall not receive nor be entitled to overtime pay, insurance, paid vacation, severance payments or similar fringe or employment benefits from the company. without derogating from the above, if it is adjudicated or otherwise determined by any governmental authority that the advisor and / or anyone on advisor's behalf, is, regardless of the terms of this agreement, an employee of the company, then payments to advisor hereunder shall be reduced effective retroactively as of the beginning of the term so that 60 % of such payments shall constitute salary payments, and 40 % of such payments shall constitute payment by the company for all other advisor statutory rights and benefits as employee of the company throughout the term\n"
     ]
    }
   ],
   "source": [
    "from datasets import Dataset\n",
    "\n",
    "# Define your questions, answers, and ground truths\n",
    "questions = [\n",
    "    \"Is there a non-compete obligation to the Advisor?\",\n",
    "    \"Can the Advisor charge for meal time?\",\n",
    "    \"In which street does the Advisor live?\",\n",
    "    \"Is the Advisor entitled to social benefits?\",\n",
    "]\n",
    "\n",
    "ground_truths = [\n",
    "    \"Yes. During the term of engagement with the Company and for a period of 12 months thereafter.\",\n",
    "    \"No. See Section 6.1, Billable Hour doesn’t include meals or travel time.\",\n",
    "    \"1 Rabin st, Tel Aviv, Israel\",\n",
    "    \"No. According to section 8 of the Agreement, the Advisor is an independent consultant and shall not be entitled to any overtime pay, insurance, paid vacation, severance payments or similar fringe or employment benefits from the Company.\",\n",
    "]\n",
    "\n",
    "answers = []\n",
    "contexts = []\n",
    "\n",
    "\n",
    "for query in questions:\n",
    "    answers.append(rag_with_query_expansion(query))\n",
    "    relevant_documents = retrieve_documents(query)\n",
    "    #contexts.append([doc.page_content for doc in relevant_documents])\n",
    "    contexts.append(relevant_documents)  # Already contains text content\n",
    "    #contexts.append([docs.page_content for docs in retriever.get_relevant_documents(query)])\n",
    "\n",
    "# Create the dataset dictionary\n",
    "data = {\n",
    "    \"question\": questions,\n",
    "    \"answer\": answers,\n",
    "    \"contexts\": contexts,\n",
    "    \"ground_truth\": ground_truths  \n",
    "}\n",
    "\n",
    "# Convert dict to dataset\n",
    "dataset = Dataset.from_dict(data)\n",
    "\n"
   ]
  },
  {
   "cell_type": "code",
   "execution_count": 9,
   "metadata": {},
   "outputs": [
    {
     "name": "stderr",
     "output_type": "stream",
     "text": [
      "Evaluating: 100%|██████████| 16/16 [00:15<00:00,  1.06it/s]\n"
     ]
    },
    {
     "name": "stdout",
     "output_type": "stream",
     "text": [
      "                                            question  \\\n",
      "0  Is there a non-compete obligation to the Advisor?   \n",
      "1              Can the Advisor charge for meal time?   \n",
      "2             In which street does the Advisor live?   \n",
      "3        Is the Advisor entitled to social benefits?   \n",
      "\n",
      "                                              answer  \\\n",
      "0  Yes, there is a non-compete obligation for the...   \n",
      "1  The advisor can only charge for billable hours...   \n",
      "2  The Advisor lives at 1 Rabin St, Tel Aviv, Isr...   \n",
      "3  No, the Advisor shall not receive nor be entit...   \n",
      "\n",
      "                                            contexts  \\\n",
      "0  [advisor shall be solely responsible for any i...   \n",
      "1  [as full and sole consideration for the servic...   \n",
      "2  [advisor shall provide to the company, as an i...   \n",
      "3  [relationship of the parties ; indemnification...   \n",
      "\n",
      "                                        ground_truth  context_precision  \\\n",
      "0  Yes. During the term of engagement with the Co...             1.0000   \n",
      "1  No. See Section 6.1, Billable Hour doesn’t inc...             0.8875   \n",
      "2                       1 Rabin st, Tel Aviv, Israel             0.2000   \n",
      "3  No. According to section 8 of the Agreement, t...             1.0000   \n",
      "\n",
      "   context_recall  faithfulness  answer_relevancy  \n",
      "0             1.0           1.0          0.997178  \n",
      "1             0.0           1.0          0.895278  \n",
      "2             1.0           1.0          0.954076  \n",
      "3             1.0           1.0          0.896943  \n"
     ]
    }
   ],
   "source": [
    "from ragas import evaluate\n",
    "from ragas.metrics import (\n",
    "    faithfulness,\n",
    "    answer_relevancy,\n",
    "    context_recall,\n",
    "    context_precision,\n",
    ")\n",
    "\n",
    "result = evaluate(\n",
    "    dataset=dataset,\n",
    "    metrics=[\n",
    "        context_precision,\n",
    "        context_recall,\n",
    "        faithfulness,\n",
    "        answer_relevancy,\n",
    "    ],\n",
    "    raise_exceptions=False, \n",
    "    is_async=False\n",
    ")\n",
    "df = result.to_pandas()\n",
    "\n",
    "# Print the dataframe to inspect the results\n",
    "print(df)\n"
   ]
  },
  {
   "cell_type": "code",
   "execution_count": 10,
   "metadata": {},
   "outputs": [],
   "source": [
    "#metrices = df['context_precision','context_recall','faithfulness','answer_relevancy']\n",
    "#metrices"
   ]
  },
  {
   "cell_type": "code",
   "execution_count": 11,
   "metadata": {},
   "outputs": [
    {
     "name": "stdout",
     "output_type": "stream",
     "text": [
      "{'context_precision': 0.7719, 'context_recall': 0.7500, 'faithfulness': 1.0000, 'answer_relevancy': 0.9359}\n"
     ]
    }
   ],
   "source": [
    "print(result)"
   ]
  },
  {
   "cell_type": "code",
   "execution_count": 12,
   "metadata": {},
   "outputs": [
    {
     "data": {
      "application/vnd.plotly.v1+json": {
       "config": {
        "plotlyServerURL": "https://plot.ly"
       },
       "data": [
        {
         "fill": "toself",
         "name": "Ensemble RAG",
         "r": [
          0.7718749999794532,
          1,
          0.9358689112898695,
          0.75
         ],
         "theta": [
          "context_precision",
          "faithfulness",
          "answer_relevancy",
          "context_recall"
         ],
         "type": "scatterpolar"
        }
       ],
       "layout": {
        "polar": {
         "radialaxis": {
          "range": [
           0,
           1
          ],
          "visible": true
         }
        },
        "showlegend": true,
        "template": {
         "data": {
          "bar": [
           {
            "error_x": {
             "color": "#2a3f5f"
            },
            "error_y": {
             "color": "#2a3f5f"
            },
            "marker": {
             "line": {
              "color": "#E5ECF6",
              "width": 0.5
             },
             "pattern": {
              "fillmode": "overlay",
              "size": 10,
              "solidity": 0.2
             }
            },
            "type": "bar"
           }
          ],
          "barpolar": [
           {
            "marker": {
             "line": {
              "color": "#E5ECF6",
              "width": 0.5
             },
             "pattern": {
              "fillmode": "overlay",
              "size": 10,
              "solidity": 0.2
             }
            },
            "type": "barpolar"
           }
          ],
          "carpet": [
           {
            "aaxis": {
             "endlinecolor": "#2a3f5f",
             "gridcolor": "white",
             "linecolor": "white",
             "minorgridcolor": "white",
             "startlinecolor": "#2a3f5f"
            },
            "baxis": {
             "endlinecolor": "#2a3f5f",
             "gridcolor": "white",
             "linecolor": "white",
             "minorgridcolor": "white",
             "startlinecolor": "#2a3f5f"
            },
            "type": "carpet"
           }
          ],
          "choropleth": [
           {
            "colorbar": {
             "outlinewidth": 0,
             "ticks": ""
            },
            "type": "choropleth"
           }
          ],
          "contour": [
           {
            "colorbar": {
             "outlinewidth": 0,
             "ticks": ""
            },
            "colorscale": [
             [
              0,
              "#0d0887"
             ],
             [
              0.1111111111111111,
              "#46039f"
             ],
             [
              0.2222222222222222,
              "#7201a8"
             ],
             [
              0.3333333333333333,
              "#9c179e"
             ],
             [
              0.4444444444444444,
              "#bd3786"
             ],
             [
              0.5555555555555556,
              "#d8576b"
             ],
             [
              0.6666666666666666,
              "#ed7953"
             ],
             [
              0.7777777777777778,
              "#fb9f3a"
             ],
             [
              0.8888888888888888,
              "#fdca26"
             ],
             [
              1,
              "#f0f921"
             ]
            ],
            "type": "contour"
           }
          ],
          "contourcarpet": [
           {
            "colorbar": {
             "outlinewidth": 0,
             "ticks": ""
            },
            "type": "contourcarpet"
           }
          ],
          "heatmap": [
           {
            "colorbar": {
             "outlinewidth": 0,
             "ticks": ""
            },
            "colorscale": [
             [
              0,
              "#0d0887"
             ],
             [
              0.1111111111111111,
              "#46039f"
             ],
             [
              0.2222222222222222,
              "#7201a8"
             ],
             [
              0.3333333333333333,
              "#9c179e"
             ],
             [
              0.4444444444444444,
              "#bd3786"
             ],
             [
              0.5555555555555556,
              "#d8576b"
             ],
             [
              0.6666666666666666,
              "#ed7953"
             ],
             [
              0.7777777777777778,
              "#fb9f3a"
             ],
             [
              0.8888888888888888,
              "#fdca26"
             ],
             [
              1,
              "#f0f921"
             ]
            ],
            "type": "heatmap"
           }
          ],
          "heatmapgl": [
           {
            "colorbar": {
             "outlinewidth": 0,
             "ticks": ""
            },
            "colorscale": [
             [
              0,
              "#0d0887"
             ],
             [
              0.1111111111111111,
              "#46039f"
             ],
             [
              0.2222222222222222,
              "#7201a8"
             ],
             [
              0.3333333333333333,
              "#9c179e"
             ],
             [
              0.4444444444444444,
              "#bd3786"
             ],
             [
              0.5555555555555556,
              "#d8576b"
             ],
             [
              0.6666666666666666,
              "#ed7953"
             ],
             [
              0.7777777777777778,
              "#fb9f3a"
             ],
             [
              0.8888888888888888,
              "#fdca26"
             ],
             [
              1,
              "#f0f921"
             ]
            ],
            "type": "heatmapgl"
           }
          ],
          "histogram": [
           {
            "marker": {
             "pattern": {
              "fillmode": "overlay",
              "size": 10,
              "solidity": 0.2
             }
            },
            "type": "histogram"
           }
          ],
          "histogram2d": [
           {
            "colorbar": {
             "outlinewidth": 0,
             "ticks": ""
            },
            "colorscale": [
             [
              0,
              "#0d0887"
             ],
             [
              0.1111111111111111,
              "#46039f"
             ],
             [
              0.2222222222222222,
              "#7201a8"
             ],
             [
              0.3333333333333333,
              "#9c179e"
             ],
             [
              0.4444444444444444,
              "#bd3786"
             ],
             [
              0.5555555555555556,
              "#d8576b"
             ],
             [
              0.6666666666666666,
              "#ed7953"
             ],
             [
              0.7777777777777778,
              "#fb9f3a"
             ],
             [
              0.8888888888888888,
              "#fdca26"
             ],
             [
              1,
              "#f0f921"
             ]
            ],
            "type": "histogram2d"
           }
          ],
          "histogram2dcontour": [
           {
            "colorbar": {
             "outlinewidth": 0,
             "ticks": ""
            },
            "colorscale": [
             [
              0,
              "#0d0887"
             ],
             [
              0.1111111111111111,
              "#46039f"
             ],
             [
              0.2222222222222222,
              "#7201a8"
             ],
             [
              0.3333333333333333,
              "#9c179e"
             ],
             [
              0.4444444444444444,
              "#bd3786"
             ],
             [
              0.5555555555555556,
              "#d8576b"
             ],
             [
              0.6666666666666666,
              "#ed7953"
             ],
             [
              0.7777777777777778,
              "#fb9f3a"
             ],
             [
              0.8888888888888888,
              "#fdca26"
             ],
             [
              1,
              "#f0f921"
             ]
            ],
            "type": "histogram2dcontour"
           }
          ],
          "mesh3d": [
           {
            "colorbar": {
             "outlinewidth": 0,
             "ticks": ""
            },
            "type": "mesh3d"
           }
          ],
          "parcoords": [
           {
            "line": {
             "colorbar": {
              "outlinewidth": 0,
              "ticks": ""
             }
            },
            "type": "parcoords"
           }
          ],
          "pie": [
           {
            "automargin": true,
            "type": "pie"
           }
          ],
          "scatter": [
           {
            "fillpattern": {
             "fillmode": "overlay",
             "size": 10,
             "solidity": 0.2
            },
            "type": "scatter"
           }
          ],
          "scatter3d": [
           {
            "line": {
             "colorbar": {
              "outlinewidth": 0,
              "ticks": ""
             }
            },
            "marker": {
             "colorbar": {
              "outlinewidth": 0,
              "ticks": ""
             }
            },
            "type": "scatter3d"
           }
          ],
          "scattercarpet": [
           {
            "marker": {
             "colorbar": {
              "outlinewidth": 0,
              "ticks": ""
             }
            },
            "type": "scattercarpet"
           }
          ],
          "scattergeo": [
           {
            "marker": {
             "colorbar": {
              "outlinewidth": 0,
              "ticks": ""
             }
            },
            "type": "scattergeo"
           }
          ],
          "scattergl": [
           {
            "marker": {
             "colorbar": {
              "outlinewidth": 0,
              "ticks": ""
             }
            },
            "type": "scattergl"
           }
          ],
          "scattermapbox": [
           {
            "marker": {
             "colorbar": {
              "outlinewidth": 0,
              "ticks": ""
             }
            },
            "type": "scattermapbox"
           }
          ],
          "scatterpolar": [
           {
            "marker": {
             "colorbar": {
              "outlinewidth": 0,
              "ticks": ""
             }
            },
            "type": "scatterpolar"
           }
          ],
          "scatterpolargl": [
           {
            "marker": {
             "colorbar": {
              "outlinewidth": 0,
              "ticks": ""
             }
            },
            "type": "scatterpolargl"
           }
          ],
          "scatterternary": [
           {
            "marker": {
             "colorbar": {
              "outlinewidth": 0,
              "ticks": ""
             }
            },
            "type": "scatterternary"
           }
          ],
          "surface": [
           {
            "colorbar": {
             "outlinewidth": 0,
             "ticks": ""
            },
            "colorscale": [
             [
              0,
              "#0d0887"
             ],
             [
              0.1111111111111111,
              "#46039f"
             ],
             [
              0.2222222222222222,
              "#7201a8"
             ],
             [
              0.3333333333333333,
              "#9c179e"
             ],
             [
              0.4444444444444444,
              "#bd3786"
             ],
             [
              0.5555555555555556,
              "#d8576b"
             ],
             [
              0.6666666666666666,
              "#ed7953"
             ],
             [
              0.7777777777777778,
              "#fb9f3a"
             ],
             [
              0.8888888888888888,
              "#fdca26"
             ],
             [
              1,
              "#f0f921"
             ]
            ],
            "type": "surface"
           }
          ],
          "table": [
           {
            "cells": {
             "fill": {
              "color": "#EBF0F8"
             },
             "line": {
              "color": "white"
             }
            },
            "header": {
             "fill": {
              "color": "#C8D4E3"
             },
             "line": {
              "color": "white"
             }
            },
            "type": "table"
           }
          ]
         },
         "layout": {
          "annotationdefaults": {
           "arrowcolor": "#2a3f5f",
           "arrowhead": 0,
           "arrowwidth": 1
          },
          "autotypenumbers": "strict",
          "coloraxis": {
           "colorbar": {
            "outlinewidth": 0,
            "ticks": ""
           }
          },
          "colorscale": {
           "diverging": [
            [
             0,
             "#8e0152"
            ],
            [
             0.1,
             "#c51b7d"
            ],
            [
             0.2,
             "#de77ae"
            ],
            [
             0.3,
             "#f1b6da"
            ],
            [
             0.4,
             "#fde0ef"
            ],
            [
             0.5,
             "#f7f7f7"
            ],
            [
             0.6,
             "#e6f5d0"
            ],
            [
             0.7,
             "#b8e186"
            ],
            [
             0.8,
             "#7fbc41"
            ],
            [
             0.9,
             "#4d9221"
            ],
            [
             1,
             "#276419"
            ]
           ],
           "sequential": [
            [
             0,
             "#0d0887"
            ],
            [
             0.1111111111111111,
             "#46039f"
            ],
            [
             0.2222222222222222,
             "#7201a8"
            ],
            [
             0.3333333333333333,
             "#9c179e"
            ],
            [
             0.4444444444444444,
             "#bd3786"
            ],
            [
             0.5555555555555556,
             "#d8576b"
            ],
            [
             0.6666666666666666,
             "#ed7953"
            ],
            [
             0.7777777777777778,
             "#fb9f3a"
            ],
            [
             0.8888888888888888,
             "#fdca26"
            ],
            [
             1,
             "#f0f921"
            ]
           ],
           "sequentialminus": [
            [
             0,
             "#0d0887"
            ],
            [
             0.1111111111111111,
             "#46039f"
            ],
            [
             0.2222222222222222,
             "#7201a8"
            ],
            [
             0.3333333333333333,
             "#9c179e"
            ],
            [
             0.4444444444444444,
             "#bd3786"
            ],
            [
             0.5555555555555556,
             "#d8576b"
            ],
            [
             0.6666666666666666,
             "#ed7953"
            ],
            [
             0.7777777777777778,
             "#fb9f3a"
            ],
            [
             0.8888888888888888,
             "#fdca26"
            ],
            [
             1,
             "#f0f921"
            ]
           ]
          },
          "colorway": [
           "#636efa",
           "#EF553B",
           "#00cc96",
           "#ab63fa",
           "#FFA15A",
           "#19d3f3",
           "#FF6692",
           "#B6E880",
           "#FF97FF",
           "#FECB52"
          ],
          "font": {
           "color": "#2a3f5f"
          },
          "geo": {
           "bgcolor": "white",
           "lakecolor": "white",
           "landcolor": "#E5ECF6",
           "showlakes": true,
           "showland": true,
           "subunitcolor": "white"
          },
          "hoverlabel": {
           "align": "left"
          },
          "hovermode": "closest",
          "mapbox": {
           "style": "light"
          },
          "paper_bgcolor": "white",
          "plot_bgcolor": "#E5ECF6",
          "polar": {
           "angularaxis": {
            "gridcolor": "white",
            "linecolor": "white",
            "ticks": ""
           },
           "bgcolor": "#E5ECF6",
           "radialaxis": {
            "gridcolor": "white",
            "linecolor": "white",
            "ticks": ""
           }
          },
          "scene": {
           "xaxis": {
            "backgroundcolor": "#E5ECF6",
            "gridcolor": "white",
            "gridwidth": 2,
            "linecolor": "white",
            "showbackground": true,
            "ticks": "",
            "zerolinecolor": "white"
           },
           "yaxis": {
            "backgroundcolor": "#E5ECF6",
            "gridcolor": "white",
            "gridwidth": 2,
            "linecolor": "white",
            "showbackground": true,
            "ticks": "",
            "zerolinecolor": "white"
           },
           "zaxis": {
            "backgroundcolor": "#E5ECF6",
            "gridcolor": "white",
            "gridwidth": 2,
            "linecolor": "white",
            "showbackground": true,
            "ticks": "",
            "zerolinecolor": "white"
           }
          },
          "shapedefaults": {
           "line": {
            "color": "#2a3f5f"
           }
          },
          "ternary": {
           "aaxis": {
            "gridcolor": "white",
            "linecolor": "white",
            "ticks": ""
           },
           "baxis": {
            "gridcolor": "white",
            "linecolor": "white",
            "ticks": ""
           },
           "bgcolor": "#E5ECF6",
           "caxis": {
            "gridcolor": "white",
            "linecolor": "white",
            "ticks": ""
           }
          },
          "title": {
           "x": 0.05
          },
          "xaxis": {
           "automargin": true,
           "gridcolor": "white",
           "linecolor": "white",
           "ticks": "",
           "title": {
            "standoff": 15
           },
           "zerolinecolor": "white",
           "zerolinewidth": 2
          },
          "yaxis": {
           "automargin": true,
           "gridcolor": "white",
           "linecolor": "white",
           "ticks": "",
           "title": {
            "standoff": 15
           },
           "zerolinecolor": "white",
           "zerolinewidth": 2
          }
         }
        },
        "title": {
         "text": "Retrieval Augmented Generation - Evaluation"
        },
        "width": 800
       }
      }
     },
     "metadata": {},
     "output_type": "display_data"
    }
   ],
   "source": [
    "import plotly.graph_objects as go\n",
    "\n",
    "\n",
    "data = {\n",
    "    'context_precision': result['context_precision'],\n",
    "    'faithfulness': result['faithfulness'],\n",
    "    'answer_relevancy': result['answer_relevancy'],\n",
    "    'context_recall': result['context_recall'],\n",
    "    }\n",
    "\n",
    "fig = go.Figure()\n",
    "\n",
    "fig.add_trace(go.Scatterpolar(\n",
    "    r=list(data.values()),\n",
    "    theta=list(data.keys()),\n",
    "    fill='toself',\n",
    "    name='Ensemble RAG'\n",
    "))\n",
    "\n",
    "fig.update_layout(\n",
    "    polar=dict(\n",
    "        radialaxis=dict(\n",
    "            visible=True,\n",
    "            range=[0, 1]\n",
    "        )),\n",
    "    showlegend=True,\n",
    "    title='Retrieval Augmented Generation - Evaluation',\n",
    "    width=800,\n",
    ")\n",
    "\n",
    "fig.show()"
   ]
  }
 ],
 "metadata": {
  "kernelspec": {
   "display_name": "Python 3 (ipykernel)",
   "language": "python",
   "name": "python3"
  },
  "language_info": {
   "codemirror_mode": {
    "name": "ipython",
    "version": 3
   },
   "file_extension": ".py",
   "mimetype": "text/x-python",
   "name": "python",
   "nbconvert_exporter": "python",
   "pygments_lexer": "ipython3",
   "version": "3.12.3"
  }
 },
 "nbformat": 4,
 "nbformat_minor": 2
}
