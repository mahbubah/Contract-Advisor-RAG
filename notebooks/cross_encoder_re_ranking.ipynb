{
 "cells": [
  {
   "cell_type": "code",
   "execution_count": 2,
   "metadata": {},
   "outputs": [],
   "source": [
    "import sys\n",
    "sys.path.insert(0, '../utils')\n",
    "from helper import load_chroma, word_wrap, project_embeddings\n",
    "from chromadb.utils.embedding_functions import SentenceTransformerEmbeddingFunction\n",
    "import numpy as np"
   ]
  },
  {
   "cell_type": "code",
   "execution_count": 4,
   "metadata": {},
   "outputs": [
    {
     "data": {
      "text/plain": [
       "650"
      ]
     },
     "execution_count": 4,
     "metadata": {},
     "output_type": "execute_result"
    }
   ],
   "source": [
    "embedding_function = SentenceTransformerEmbeddingFunction()\n",
    "\n",
    "chroma_collection = load_chroma(filename='../Evaluation Sets/Raptor Contract.docx', collection_name='contract', embedding_function=embedding_function)\n",
    "chroma_collection.count()"
   ]
  },
  {
   "cell_type": "code",
   "execution_count": 5,
   "metadata": {},
   "outputs": [
    {
     "name": "stdout",
     "output_type": "stream",
     "text": [
      "escrow.\n",
      "\n",
      "this agreement, the escrow agreement or the contemplated transactions ;\n",
      "\n",
      "“ escrow amount ” means, $ 1, 000, 000 “ facilities ” means any\n",
      "buildings, plants, improvements or structures located on the real\n",
      "property.\n",
      "\n",
      "at the closing, buyer shall deposit the escrow amount with the escrow\n",
      "agent to be held in a separate account ( the “ escrow account ” ). the\n",
      "escrow account shall be governed by the terms of the escrow agreement.\n",
      "all funds contained in the escrow account shall be held in escrow and\n",
      "shall be available solely for the purpose of satisfying obligations of\n",
      "the company securityholders, if any, as provided in section 2. 07 ( f\n",
      "). closing deliveries.\n",
      "\n",
      "to the sellers ’ representative, the employment agreements and any\n",
      "other ancillary agreements to be entered into by buyer or parent at\n",
      "closing, executed by buyer or parent ( as applicable ) ; to the escrow\n",
      "agent, by wire transfer of immediately available funds, the escrow\n",
      "amount ;\n",
      "\n",
      ". in so doing, the buyer may rely on any and all actions taken by and\n",
      "decisions of the sellers ’ representative under this agreement and the\n",
      "escrow agreement notwithstanding any dispute or disagreement among any\n",
      "of the sellers or the sellers ’ representative with respect to any such\n",
      "action or decision without any liability to, or obligation to inquire\n",
      "of, any seller, the sellers ’ representative or any other person\n",
      "\n",
      "to the sellers ’ representative, a copy of the escrow agreement [ and\n",
      "paying agent agreement ], duly executed by buyer. sellers closing\n",
      "deliveries. upon the terms and subject to the conditions set forth in\n",
      "this agreement, the sellers ’ representative shall deliver or cause to\n",
      "be delivered to the buyer at ( or, to the extent set forth below, prior\n",
      "to ) the closing the following :\n",
      "\n",
      "at closing, buyer will deposit the escrow amount in escrow on behalf of\n",
      "the sellers in accordance with the escrow agreement. the escrow amount\n",
      "shall be held and, subject to section 2. 07, released to the company\n",
      "securityholders in accordance with the provisions of the escrow\n",
      "agreement with the company securityholders being entitled to share in\n",
      "such released amounts in accordance with their pro rata percentages\n",
      "\n",
      "receive and give all notices, make all decisions and take all other\n",
      "actions on behalf of the sellers in connection with the escrow account\n",
      "established pursuant to the escrow agreement, including giving any\n",
      "instructions or authorizations to the escrow agent to pay from such\n",
      "escrow account any amounts owed by the sellers pursuant to this\n",
      "agreement or the escrow agreement or otherwise in connection with the\n",
      "contemplated transactions ;\n",
      "\n",
      "and ( ii ) the amounts, if any, from time to time payable to such\n",
      "optionholder in respect thereof under the escrow agreement.\n",
      "\n"
     ]
    }
   ],
   "source": [
    "query = \"What is the purpose of the escrow?\"\n",
    "results = chroma_collection.query(query_texts=query, n_results=10, include=['documents', 'embeddings'])\n",
    "\n",
    "retrieved_documents = results['documents'][0]\n",
    "\n",
    "for document in results['documents'][0]:\n",
    "    print(word_wrap(document))\n",
    "    print('')"
   ]
  },
  {
   "cell_type": "code",
   "execution_count": 6,
   "metadata": {},
   "outputs": [],
   "source": [
    "from sentence_transformers import CrossEncoder\n",
    "cross_encoder = CrossEncoder('cross-encoder/ms-marco-MiniLM-L-6-v2')"
   ]
  },
  {
   "cell_type": "code",
   "execution_count": 7,
   "metadata": {},
   "outputs": [
    {
     "name": "stdout",
     "output_type": "stream",
     "text": [
      "Scores:\n",
      "0.9157961\n",
      "-0.65759283\n",
      "2.1176157\n",
      "4.324339\n",
      "-1.2751368\n",
      "-0.13444367\n",
      "-0.00770735\n",
      "-0.101533696\n",
      "2.0051513\n",
      "-0.9458619\n"
     ]
    }
   ],
   "source": [
    "pairs = [[query, doc] for doc in retrieved_documents]\n",
    "scores = cross_encoder.predict(pairs)\n",
    "print(\"Scores:\")\n",
    "for score in scores:\n",
    "    print(score)"
   ]
  },
  {
   "cell_type": "code",
   "execution_count": 8,
   "metadata": {},
   "outputs": [
    {
     "name": "stdout",
     "output_type": "stream",
     "text": [
      "New Ordering:\n",
      "4\n",
      "3\n",
      "9\n",
      "1\n",
      "7\n",
      "8\n",
      "6\n",
      "2\n",
      "10\n",
      "5\n"
     ]
    }
   ],
   "source": [
    "print(\"New Ordering:\")\n",
    "for o in np.argsort(scores)[::-1]:\n",
    "    print(o+1)"
   ]
  },
  {
   "cell_type": "markdown",
   "metadata": {},
   "source": [
    "Re-ranking with Query Expansion"
   ]
  },
  {
   "cell_type": "code",
   "execution_count": 9,
   "metadata": {},
   "outputs": [],
   "source": [
    "original_query = \"What is the purpose of the escrow?\"\n",
    "generated_queries = [\n",
    "    \"Who is responsible for managing the escrow?\"\n",
    "    \"How is the escrow amount determined?\"\n",
    "    \"What conditions need to be met before the escrow is released?\"\n",
    "    \"Can the escrow amount be adjusted during the contract term?\"\n",
    "    \"What happens if there is a dispute regarding the escrow funds?\"\n",
    "]"
   ]
  },
  {
   "cell_type": "code",
   "execution_count": 10,
   "metadata": {},
   "outputs": [],
   "source": [
    "queries = [original_query] + generated_queries\n",
    "\n",
    "results = chroma_collection.query(query_texts=queries, n_results=10, include=['documents', 'embeddings'])\n",
    "retrieved_documents = results['documents']"
   ]
  },
  {
   "cell_type": "code",
   "execution_count": 11,
   "metadata": {},
   "outputs": [],
   "source": [
    "# Deduplicate the retrieved documents\n",
    "unique_documents = set()\n",
    "for documents in retrieved_documents:\n",
    "    for document in documents:\n",
    "        unique_documents.add(document)\n",
    "\n",
    "unique_documents = list(unique_documents)"
   ]
  },
  {
   "cell_type": "code",
   "execution_count": 12,
   "metadata": {},
   "outputs": [],
   "source": [
    "pairs = []\n",
    "for doc in unique_documents:\n",
    "    pairs.append([original_query, doc])"
   ]
  },
  {
   "cell_type": "code",
   "execution_count": 13,
   "metadata": {},
   "outputs": [],
   "source": [
    "scores = cross_encoder.predict(pairs)"
   ]
  },
  {
   "cell_type": "code",
   "execution_count": 14,
   "metadata": {},
   "outputs": [
    {
     "name": "stdout",
     "output_type": "stream",
     "text": [
      "Scores:\n",
      "-0.65759283\n",
      "-0.101533696\n",
      "-0.13444367\n",
      "2.0051513\n",
      "0.03871134\n",
      "4.3243384\n",
      "-1.2751368\n",
      "-1.3882294\n",
      "2.1176157\n",
      "-0.00770735\n",
      "0.58933103\n",
      "0.9157961\n",
      "-1.4596148\n",
      "-0.9458619\n"
     ]
    }
   ],
   "source": [
    "print(\"Scores:\")\n",
    "for score in scores:\n",
    "    print(score)"
   ]
  },
  {
   "cell_type": "code",
   "execution_count": 15,
   "metadata": {},
   "outputs": [
    {
     "name": "stdout",
     "output_type": "stream",
     "text": [
      "New Ordering:\n",
      "5\n",
      "8\n",
      "3\n",
      "11\n",
      "10\n",
      "4\n",
      "9\n",
      "1\n",
      "2\n",
      "0\n",
      "13\n",
      "6\n",
      "7\n",
      "12\n"
     ]
    }
   ],
   "source": [
    "print(\"New Ordering:\")\n",
    "for o in np.argsort(scores)[::-1]:\n",
    "    print(o)"
   ]
  }
 ],
 "metadata": {
  "kernelspec": {
   "display_name": ".venv",
   "language": "python",
   "name": "python3"
  },
  "language_info": {
   "codemirror_mode": {
    "name": "ipython",
    "version": 3
   },
   "file_extension": ".py",
   "mimetype": "text/x-python",
   "name": "python",
   "nbconvert_exporter": "python",
   "pygments_lexer": "ipython3",
   "version": "3.12.3"
  }
 },
 "nbformat": 4,
 "nbformat_minor": 2
}
