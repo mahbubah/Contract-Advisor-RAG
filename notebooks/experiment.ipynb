{
 "cells": [
  {
   "cell_type": "code",
   "execution_count": 1,
   "metadata": {},
   "outputs": [],
   "source": [
    "from docx import Document\n",
    "\n",
    "docx_path = \"../Evaluation Sets/Raptor Contract.docx\"\n",
    "\n",
    "doc = Document(docx_path)\n",
    "\n",
    "docx_texts = [paragraph.text.strip() for paragraph in doc.paragraphs]\n",
    "\n",
    "docx_texts = [text for text in docx_texts if text]\n"
   ]
  },
  {
   "cell_type": "code",
   "execution_count": 2,
   "metadata": {},
   "outputs": [],
   "source": [
    "from langchain.text_splitter import RecursiveCharacterTextSplitter, SentenceTransformersTokenTextSplitter"
   ]
  },
  {
   "cell_type": "code",
   "execution_count": 3,
   "metadata": {},
   "outputs": [
    {
     "name": "stdout",
     "output_type": "stream",
     "text": [
      "Representative.\n",
      "\n",
      "Total chunks: 650\n"
     ]
    }
   ],
   "source": [
    "character_splitter = RecursiveCharacterTextSplitter(\n",
    "    separators=[\"\\n\\n\", \"\\n\", \". \", \" \", \"\"],\n",
    "    chunk_size=500,\n",
    "    chunk_overlap=0\n",
    ")\n",
    "character_split_texts = character_splitter.split_text('\\n\\n'.join(docx_texts))\n",
    "\n",
    "print(character_split_texts[10])\n",
    "print(f\"\\nTotal chunks: {len(character_split_texts)}\")"
   ]
  },
  {
   "cell_type": "code",
   "execution_count": 4,
   "metadata": {},
   "outputs": [
    {
     "name": "stderr",
     "output_type": "stream",
     "text": [
      "/home/mahbubah/Desktop/week-11/.venv/lib/python3.12/site-packages/sentence_transformers/cross_encoder/CrossEncoder.py:11: TqdmWarning: IProgress not found. Please update jupyter and ipywidgets. See https://ipywidgets.readthedocs.io/en/stable/user_install.html\n",
      "  from tqdm.autonotebook import tqdm, trange\n"
     ]
    },
    {
     "name": "stdout",
     "output_type": "stream",
     "text": [
      "representative.\n",
      "\n",
      "Total chunks: 650\n"
     ]
    }
   ],
   "source": [
    "token_splitter = SentenceTransformersTokenTextSplitter(chunk_overlap=0, tokens_per_chunk=256)\n",
    "\n",
    "token_split_texts = []\n",
    "for text in character_split_texts:\n",
    "    token_split_texts += token_splitter.split_text(text)\n",
    "\n",
    "print(token_split_texts[10])\n",
    "print(f\"\\nTotal chunks: {len(token_split_texts)}\")"
   ]
  },
  {
   "cell_type": "code",
   "execution_count": 5,
   "metadata": {},
   "outputs": [
    {
     "name": "stdout",
     "output_type": "stream",
     "text": [
      "[[-0.05328620597720146, -0.002339437836781144, 0.02058427408337593, 0.0042345719411969185, -0.026011338457465172, 0.03291021287441254, 0.03313444182276726, -0.013939635828137398, -0.005626088008284569, -0.016696039587259293, -0.04306734725832939, -0.0321505106985569, 0.022991394624114037, -0.020406104624271393, -0.0048293243162333965, 0.04074518010020256, 0.03148449584841728, 0.007110103033483028, -0.02592775784432888, 0.05327778682112694, 0.013863139785826206, 0.06337061524391174, 0.022657351568341255, 0.05106052756309509, 0.004572986159473658, 0.019555382430553436, -0.029988251626491547, 0.017169199883937836, -0.009934392757713795, -0.11862093210220337, 0.023795006796717644, -0.04086438566446304, 0.009681900031864643, -0.0022818869911134243, -0.0023032110184431076, 0.05665221065282822, 0.029677940532565117, -0.022787921130657196, 0.02758784405887127, -0.09012836962938309, -0.03344545513391495, 0.020511381328105927, -0.042250003665685654, 0.006441268604248762, 0.001968566095456481, 0.025486433878540993, 0.10072078555822372, 0.0035040501970797777, 0.014195638708770275, -0.009836677461862564, -0.011818827129900455, 0.022448256611824036, -0.004017049912363291, 0.043548278510570526, 0.058403100818395615, 0.007961563766002655, -0.0002810035366564989, -0.07179170846939087, 0.0010542161762714386, -0.031778689473867416, -0.05670514330267906, -0.03062519244849682, -0.09213154762983322, 0.07181447744369507, -0.028615977615118027, 0.02184203453361988, -0.013248554430902004, -0.05041656643152237, 0.0093315951526165, -0.10688600689172745, 0.02609797939658165, 0.025505447760224342, 0.027517560869455338, 0.0070222895592451096, 0.03243819251656532, -0.08494079113006592, 0.051326997578144073, 0.01643357239663601, 0.13487805426120758, 0.03453724458813667, 0.014864231459796429, 0.007291813381016254, -0.06631813198328018, 0.021388428285717964, 0.04960174113512039, -0.03000355325639248, -0.01618921384215355, -0.003920257557183504, -0.041793450713157654, 0.020139317959547043, -0.006584391463547945, 0.030650954693555832, 0.16974851489067078, 0.029507208615541458, -0.085276298224926, 0.0018017039401456714, 0.031087394803762436, -0.022527530789375305, 0.02440716326236725, 0.17969076335430145, -0.06430508196353912, 0.03291761130094528, 0.06589722633361816, 0.026352552697062492, -0.057918183505535126, -0.05744063854217529, -0.043142493814229965, 0.02221689745783806, -0.03765575587749481, -0.006583543494343758, -0.0018130041426047683, -0.03500672057271004, -0.10582853108644485, 0.09443290531635284, 0.03632499277591705, 0.04917890205979347, -0.006657417863607407, 0.0357184074819088, -0.02422126568853855, -0.016668768599629402, 0.00095580198103562, 0.0041003478690981865, -0.05824864283204079, 0.04308849945664406, 0.027099469676613808, -0.01785235106945038, 0.03635815158486366, -9.235758462706924e-33, -0.009951894171535969, 0.027292713522911072, 0.01737421564757824, 0.03796618431806564, -0.003484005108475685, 0.00393934128805995, 0.01066158339381218, 0.0273777823895216, 0.021446706727147102, -0.027458354830741882, 0.05361878499388695, 0.055860213935375214, 0.04027710482478142, 0.04631402716040611, -0.032636355608701706, 0.0005480076069943607, -0.17481671273708344, 0.09986626356840134, -0.11717912554740906, -0.02073625475168228, -0.02345561422407627, 0.15803323686122894, -0.04258707910776138, 0.03334284573793411, -0.01350767444819212, -0.05173330754041672, 0.06289047747850418, -0.03677496314048767, 0.017594775184988976, -0.011277832090854645, 0.016528526321053505, 0.017055490985512733, 0.026082385331392288, 0.035045236349105835, 0.025262949988245964, -0.0033935056999325752, 0.014274472370743752, -0.057470932602882385, -0.00932982936501503, -0.07202447950839996, 0.002440847922116518, 0.0250710416585207, 0.0505862720310688, 0.015261427499353886, -0.007097492925822735, -0.03220902383327484, 0.02053036540746689, 0.005184447858482599, -0.020477352663874626, 0.09759939461946487, -0.008007201366126537, -0.0005878288648091257, -0.04420505091547966, 0.024438519030809402, -0.002992793684825301, -0.06514494866132736, -0.01807539351284504, -0.0017405315302312374, 0.00197734241373837, -0.08132671564817429, 0.0003608375845942646, 0.10804370790719986, 0.004809968639165163, 0.0775376483798027, -0.0973052978515625, -0.06187015026807785, -0.11154577881097794, -0.023135986179113388, 0.1155717745423317, 0.03748566657304764, 0.017265943810343742, 0.01075336616486311, 0.019496168941259384, 0.04332999512553215, -0.10236600041389465, 0.001686047064140439, 0.0032028951682150364, 0.015551850199699402, -0.06729395687580109, -0.003272557631134987, -0.08779451996088028, 0.030549807474017143, 0.0267495047301054, 0.07474260777235031, 0.1418323814868927, -0.005636371672153473, 0.005272435490041971, -0.01398501731455326, 0.09183300286531448, -0.030249645933508873, -0.07473932206630707, 0.00896673183888197, 0.02532142773270607, 0.07040136307477951, -0.044188421219587326, 6.334077106325e-33, -0.027426287531852722, -0.0280526801943779, 0.04453689977526665, 0.06959724426269531, 0.0015768413431942463, -0.036628756672143936, 0.015270174480974674, -0.09827474504709244, -0.011853853240609169, -0.0170803964138031, -0.09922774136066437, -0.0308759156614542, 0.04815465211868286, 0.04691512882709503, 0.057119276374578476, -0.006714893039315939, 0.032265663146972656, -0.0654124841094017, -0.005367130506783724, -0.0026939441449940205, -0.009742680005729198, 0.014963250607252121, 0.023427601903676987, 0.06474965810775757, -0.04256083816289902, 0.016451386734843254, 0.11187227070331573, -0.038254767656326294, 0.03168812394142151, -0.017053745687007904, -0.012754538096487522, -0.08604329079389572, -0.09675661474466324, -0.03588841110467911, -0.048714183270931244, 0.07770903408527374, 0.002675750060006976, 0.02584003657102585, -0.017041554674506187, -0.01779131405055523, 0.06752574443817139, -0.06629982590675354, -0.0051576863043010235, 0.14999783039093018, -0.022644925862550735, -0.03178774192929268, 0.05028177425265312, -0.06799741089344025, -0.06038275361061096, 0.01468726061284542, -0.18181993067264557, 0.008414391428232193, 0.04335359111428261, 0.006701143458485603, 0.008278914727270603, -0.003737963503226638, -0.00832404661923647, 0.004348313435912132, 0.06213125213980675, 0.04351320490241051, 0.038198135793209076, 0.04030497372150421, 0.03323705866932869, 0.028060611337423325, -0.043239835649728775, -0.0006532880943268538, -0.09975902736186981, -0.121151864528656, 0.024068079888820648, 0.018755894154310226, 0.08962906152009964, -0.10095473378896713, -0.04203822836279869, -0.020760169252753258, -0.006245128344744444, -0.011965080164372921, -0.0647454485297203, 0.058729495853185654, -0.030382078140974045, -0.00016533052257727832, -0.017595605924725533, -0.03286163508892059, -0.01955493353307247, -0.03842056915163994, 0.0246136337518692, -0.03667105734348297, -0.0030470683705061674, -0.034063927829265594, 0.00448803324252367, 0.02544535882771015, 0.059832990169525146, 0.009896066039800644, -0.0010845302604138851, -0.018809953704476357, -0.04031483829021454, -1.4434435868793116e-08, 0.00585921248421073, 0.003567079082131386, 0.020123090595006943, 0.027297409251332283, 0.004840562120079994, -0.04094049707055092, -0.05166337639093399, -0.02413959801197052, 0.021469343453645706, 0.09127727895975113, 0.14701494574546814, -0.032951995730400085, -0.004428809508681297, -0.06251295655965805, 0.08120224624872208, -0.012444088235497475, -0.04048781469464302, 0.004337625578045845, -0.11855418980121613, 0.043148431926965714, -0.053821466863155365, 0.021950524300336838, -0.040314093232154846, 0.008252602070569992, 0.010547286830842495, 0.03054310567677021, -0.02736215479671955, 0.07736348360776901, -0.014635954983532429, 0.04419032856822014, -0.062222953885793686, 0.15045085549354553, -0.06343017518520355, -0.0343928225338459, 0.019745871424674988, -0.024783408269286156, -0.07244300842285156, -0.011774664744734764, 0.058260828256607056, -0.052423927932977676, -0.016693327575922012, 0.06308920681476593, -0.008615541271865368, -0.04376933351159096, 0.102748803794384, 0.03361381217837334, 0.008717251010239124, -0.010801241733133793, 0.05234454944729805, -0.050460126250982285, -0.010771592147648335, 0.026097990572452545, 0.007376277353614569, 0.07365239411592484, 0.04276706278324127, -0.017146175727248192, -0.02814643830060959, -0.033692583441734314, -0.021765463054180145, -0.022727377712726593, 0.12114423513412476, 0.03127248212695122, 0.02730645053088665, 0.021086685359477997]]\n"
     ]
    }
   ],
   "source": [
    "import chromadb\n",
    "from chromadb.utils.embedding_functions import SentenceTransformerEmbeddingFunction\n",
    "\n",
    "embedding_function = SentenceTransformerEmbeddingFunction()\n",
    "print(embedding_function([token_split_texts[10]]))"
   ]
  },
  {
   "cell_type": "code",
   "execution_count": 6,
   "metadata": {},
   "outputs": [
    {
     "data": {
      "text/plain": [
       "650"
      ]
     },
     "execution_count": 6,
     "metadata": {},
     "output_type": "execute_result"
    }
   ],
   "source": [
    "chroma_client = chromadb.Client()\n",
    "chroma_collection = chroma_client.create_collection(\"Contract1\", embedding_function=embedding_function)\n",
    "\n",
    "ids = [str(i) for i in range(len(token_split_texts))]\n",
    "\n",
    "chroma_collection.add(ids=ids, documents=token_split_texts)\n",
    "chroma_collection.count()"
   ]
  },
  {
   "cell_type": "code",
   "execution_count": 7,
   "metadata": {},
   "outputs": [
    {
     "name": "stdout",
     "output_type": "stream",
     "text": [
      ". further, each seller agrees that, ( i ) were such seller to breach any of the covenants contained in this section 6. 08, the damage to the buyer and the acquired companies may be irreparable, ( ii ) the buyer, in addition to any other remedies available to it, shall be entitled to seek preliminary and permanent injunctive relief against any breach or threatened breach by such seller of any such covenants together with an award of its reasonable attorneys ’ fees incurred in enforcing its rights\n",
      "\n",
      "\n",
      "liability. the sellers ’ representative shall not be held liable by any of the sellers for actions or omissions in exercising or failing to exercise all or any of the power and authority of the sellers ’ representative pursuant to this agreement, except in the case of the sellers ’ representative ’ s gross negligence, bad faith or willful misconduct\n",
      "\n",
      "\n",
      "provisions concerning the sellers ’ representative.\n",
      "\n",
      "\n",
      ". the sellers ’ representative shall be entitled to rely on the advice of counsel, public accountants or other independent experts that it reasonably determines to be experienced in the matter at issue, and will not be liable to any seller for any action taken or omitted to be taken in good faith based on such advice\n",
      "\n",
      "\n",
      ". each seller will severally ( and not jointly ) indemnify ( in accordance with its pro rata percentage ) the sellers ’ representative from any losses arising out of its serving as the sellers ’ representative hereunder, except for losses arising out of or caused by the sellers ’ representative ’ s gross negligence, bad faith or willful misconduct\n",
      "\n",
      "\n"
     ]
    }
   ],
   "source": [
    "query = \"Under what circumstances and to what extent the Sellers are responsible for a breach of representations and warranties?\"\n",
    "\n",
    "results = chroma_collection.query(query_texts=[query], n_results=5)\n",
    "retrieved_documents = results['documents'][0]\n",
    "\n",
    "for document in retrieved_documents:\n",
    "    print(document)\n",
    "    print('\\n')"
   ]
  },
  {
   "cell_type": "code",
   "execution_count": 8,
   "metadata": {},
   "outputs": [],
   "source": [
    "import os\n",
    "import openai\n",
    "#from openai import OpenAI\n",
    "\n",
    "from dotenv import load_dotenv, find_dotenv\n",
    "_ = load_dotenv(find_dotenv()) # read local .env file\n",
    "openai.api_key = os.environ['OPENAI_API_KEY']\n",
    "\n",
    "#openai_client = OpenAI()"
   ]
  },
  {
   "cell_type": "code",
   "execution_count": 9,
   "metadata": {},
   "outputs": [],
   "source": [
    "def rag(query, retrieved_documents, model=\"gpt-3.5-turbo\"):\n",
    "    information = \"\\n\\n\".join(retrieved_documents)\n",
    "\n",
    "    messages = [\n",
    "        {\n",
    "            \"role\": \"system\",\n",
    "            \"content\": \"You are a helpful expert contract advisor assistant. Your users are asking questions about information contained in the contract.\"\n",
    "            \"You will be shown the user's question, and the relevant information from the contract. Answer the user's question using only this information.\"\n",
    "        },\n",
    "        {\"role\": \"user\", \"content\": f\"Question: {query}. \\n Information: {information}\"}\n",
    "    ]\n",
    "    \n",
    "    #openai_client = OpenAI()\n",
    "    response = openai.ChatCompletion.create(\n",
    "        model=model,\n",
    "        messages=messages,\n",
    "    )\n",
    "    content = response.choices[0].message.content\n",
    "    return content"
   ]
  },
  {
   "cell_type": "code",
   "execution_count": 10,
   "metadata": {},
   "outputs": [
    {
     "name": "stdout",
     "output_type": "stream",
     "text": [
      "The sellers are responsible for a breach of representations and warranties in accordance with Section 6.08 of the contract. If a seller breaches any of the covenants contained in the contract, the buyer may suffer irreparable damage. In such cases, the buyer has the right to seek preliminary and permanent injunctive relief against the breaching seller, in addition to any other remedies available, and may be awarded reasonable attorneys' fees. The sellers' representative will not be held liable for actions or omissions, except in cases of gross negligence, bad faith, or willful misconduct. Each seller is individually responsible for indemnifying the sellers' representative from losses arising out of serving as the representative, except for losses caused by gross negligence, bad faith, or willful misconduct.\n"
     ]
    }
   ],
   "source": [
    "output = rag(query=query, retrieved_documents=retrieved_documents)\n",
    "\n",
    "print(output)"
   ]
  },
  {
   "cell_type": "code",
   "execution_count": 11,
   "metadata": {},
   "outputs": [
    {
     "name": "stdout",
     "output_type": "stream",
     "text": [
      "“ escrow amount ” means, $ 1, 000, 000 “ facilities ” means any buildings, plants, improvements or structures located on the real property.\n",
      "\n",
      "\n",
      "escrow.\n",
      "\n",
      "\n",
      "funds its pro rata percentage of the amount, if any, by which such re - calculated final purchase price exceeds the estimated purchase price paid at closing in accordance with section 2. 05 ( a ) ( i ) and section 2. 07 ( a ) and the escrow agent shall release the escrow amount to company securityholders in accordance with the escrow agreement or ( ii ) the amount, if any, by which such estimated purchase price paid at closing in accordance with section 2. 05 ( a ) ( i ) and section 2. 07 ( a ) exceeds such\n",
      "\n",
      "\n",
      "at closing, buyer will deposit the escrow amount in escrow on behalf of the sellers in accordance with the escrow agreement. the escrow amount shall be held and, subject to section 2. 07, released to the company securityholders in accordance with the provisions of the escrow agreement with the company securityholders being entitled to share in such released amounts in accordance with their pro rata percentages\n",
      "\n",
      "\n",
      "and ( ii ) the amounts, if any, from time to time payable to such optionholder in respect thereof under the escrow agreement.\n",
      "\n",
      "\n"
     ]
    }
   ],
   "source": [
    "query2 = \"How much is the escrow amount?\"\n",
    "\n",
    "results = chroma_collection.query(query_texts=[query2], n_results=5)\n",
    "retrieved_documents = results['documents'][0]\n",
    "\n",
    "for document in retrieved_documents:\n",
    "    print(document)\n",
    "    print('\\n')"
   ]
  },
  {
   "cell_type": "code",
   "execution_count": 12,
   "metadata": {},
   "outputs": [
    {
     "name": "stdout",
     "output_type": "stream",
     "text": [
      "The escrow amount is $1,000,000.\n"
     ]
    }
   ],
   "source": [
    "output = rag(query=query2, retrieved_documents=retrieved_documents)\n",
    "\n",
    "print(output)"
   ]
  }
 ],
 "metadata": {
  "kernelspec": {
   "display_name": "myenv",
   "language": "python",
   "name": "python3"
  },
  "language_info": {
   "codemirror_mode": {
    "name": "ipython",
    "version": 3
   },
   "file_extension": ".py",
   "mimetype": "text/x-python",
   "name": "python",
   "nbconvert_exporter": "python",
   "pygments_lexer": "ipython3",
   "version": "3.12.3"
  }
 },
 "nbformat": 4,
 "nbformat_minor": 2
}
